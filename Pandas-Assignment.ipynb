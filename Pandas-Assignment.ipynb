{
 "cells": [
  {
   "cell_type": "code",
   "execution_count": 12,
   "metadata": {},
   "outputs": [
    {
     "ename": "ModuleNotFoundError",
     "evalue": "No module named 'pandas'",
     "output_type": "error",
     "traceback": [
      "\u001b[1;31m---------------------------------------------------------------------------\u001b[0m",
      "\u001b[1;31mModuleNotFoundError\u001b[0m                       Traceback (most recent call last)",
      "Cell \u001b[1;32mIn[12], line 3\u001b[0m\n\u001b[0;32m      1\u001b[0m \u001b[39m# Q1. Create a Pandas Series that contains the following data: 4, 8, 15, 16, 23, and 42. Then, print the series.\u001b[39;00m\n\u001b[0;32m      2\u001b[0m \u001b[39m# Answer :-\u001b[39;00m\n\u001b[1;32m----> 3\u001b[0m \u001b[39mimport\u001b[39;00m \u001b[39mpandas\u001b[39;00m \u001b[39mas\u001b[39;00m \u001b[39mpd\u001b[39;00m\n\u001b[0;32m      5\u001b[0m data \u001b[39m=\u001b[39m [\u001b[39m4\u001b[39m, \u001b[39m8\u001b[39m, \u001b[39m15\u001b[39m, \u001b[39m16\u001b[39m, \u001b[39m23\u001b[39m, \u001b[39m42\u001b[39m]\n\u001b[0;32m      6\u001b[0m series \u001b[39m=\u001b[39m pd\u001b[39m.\u001b[39mSeries(data)\n",
      "\u001b[1;31mModuleNotFoundError\u001b[0m: No module named 'pandas'"
     ]
    }
   ],
   "source": [
    "# Q1. Create a Pandas Series that contains the following data: 4, 8, 15, 16, 23, and 42. Then, print the series.\n",
    "# Answer :-\n",
    "import pandas as pd\n",
    "\n",
    "data = [4, 8, 15, 16, 23, 42]\n",
    "series = pd.Series(data)\n",
    "\n",
    "print(series)\n"
   ]
  },
  {
   "cell_type": "code",
   "execution_count": null,
   "metadata": {},
   "outputs": [
    {
     "ename": "ModuleNotFoundError",
     "evalue": "No module named 'pandas'",
     "output_type": "error",
     "traceback": [
      "\u001b[1;31m---------------------------------------------------------------------------\u001b[0m",
      "\u001b[1;31mModuleNotFoundError\u001b[0m                       Traceback (most recent call last)",
      "Cell \u001b[1;32mIn[5], line 4\u001b[0m\n\u001b[0;32m      1\u001b[0m \u001b[39m# Q2. Create a variable of list type containing 10 elements in it, and apply pandas.Series function on the \u001b[39;00m\n\u001b[0;32m      2\u001b[0m \u001b[39m# variable print it.\u001b[39;00m\n\u001b[0;32m      3\u001b[0m \u001b[39m# Answer :-\u001b[39;00m\n\u001b[1;32m----> 4\u001b[0m \u001b[39mimport\u001b[39;00m \u001b[39mpandas\u001b[39;00m \u001b[39mas\u001b[39;00m \u001b[39mpd\u001b[39;00m\n\u001b[0;32m      6\u001b[0m my_list \u001b[39m=\u001b[39m [\u001b[39m1\u001b[39m, \u001b[39m2\u001b[39m, \u001b[39m3\u001b[39m, \u001b[39m4\u001b[39m, \u001b[39m5\u001b[39m, \u001b[39m6\u001b[39m, \u001b[39m7\u001b[39m, \u001b[39m8\u001b[39m, \u001b[39m9\u001b[39m, \u001b[39m10\u001b[39m]\n\u001b[0;32m      7\u001b[0m series \u001b[39m=\u001b[39m pd\u001b[39m.\u001b[39mSeries(my_list)\n",
      "\u001b[1;31mModuleNotFoundError\u001b[0m: No module named 'pandas'"
     ]
    }
   ],
   "source": [
    "# Q2. Create a variable of list type containing 10 elements in it, and apply pandas.Series function on the \n",
    "# variable print it.\n",
    "# Answer :-\n",
    "import pandas as pd\n",
    "\n",
    "my_list = [1, 2, 3, 4, 5, 6, 7, 8, 9, 10]\n",
    "series = pd.Series(my_list)\n",
    "\n",
    "print(series)\n",
    "\n"
   ]
  },
  {
   "cell_type": "code",
   "execution_count": null,
   "metadata": {},
   "outputs": [
    {
     "ename": "ModuleNotFoundError",
     "evalue": "No module named 'pandas'",
     "output_type": "error",
     "traceback": [
      "\u001b[1;31m---------------------------------------------------------------------------\u001b[0m",
      "\u001b[1;31mModuleNotFoundError\u001b[0m                       Traceback (most recent call last)",
      "Cell \u001b[1;32mIn[6], line 3\u001b[0m\n\u001b[0;32m      1\u001b[0m \u001b[39m# Q3. Create a Pandas DataFrame that contains the following data: Then, print the DataFrame.\u001b[39;00m\n\u001b[0;32m      2\u001b[0m \u001b[39m# Answer :-\u001b[39;00m\n\u001b[1;32m----> 3\u001b[0m \u001b[39mimport\u001b[39;00m \u001b[39mpandas\u001b[39;00m \u001b[39mas\u001b[39;00m \u001b[39mpd\u001b[39;00m\n\u001b[0;32m      5\u001b[0m data \u001b[39m=\u001b[39m {\n\u001b[0;32m      6\u001b[0m     \u001b[39m'\u001b[39m\u001b[39mName\u001b[39m\u001b[39m'\u001b[39m: [\u001b[39m'\u001b[39m\u001b[39mAlice\u001b[39m\u001b[39m'\u001b[39m, \u001b[39m'\u001b[39m\u001b[39mBob\u001b[39m\u001b[39m'\u001b[39m, \u001b[39m'\u001b[39m\u001b[39mClaire\u001b[39m\u001b[39m'\u001b[39m],\n\u001b[0;32m      7\u001b[0m     \u001b[39m'\u001b[39m\u001b[39mAge\u001b[39m\u001b[39m'\u001b[39m: [\u001b[39m25\u001b[39m, \u001b[39m30\u001b[39m, \u001b[39m27\u001b[39m],\n\u001b[0;32m      8\u001b[0m     \u001b[39m'\u001b[39m\u001b[39mGender\u001b[39m\u001b[39m'\u001b[39m: [\u001b[39m'\u001b[39m\u001b[39mFemale\u001b[39m\u001b[39m'\u001b[39m, \u001b[39m'\u001b[39m\u001b[39mMale\u001b[39m\u001b[39m'\u001b[39m, \u001b[39m'\u001b[39m\u001b[39mFemale\u001b[39m\u001b[39m'\u001b[39m]\n\u001b[0;32m      9\u001b[0m }\n\u001b[0;32m     11\u001b[0m df \u001b[39m=\u001b[39m pd\u001b[39m.\u001b[39mDataFrame(data)\n",
      "\u001b[1;31mModuleNotFoundError\u001b[0m: No module named 'pandas'"
     ]
    }
   ],
   "source": [
    "# Q3. Create a Pandas DataFrame that contains the following data: Then, print the DataFrame.\n",
    "# Answer :-\n",
    "import pandas as pd\n",
    "\n",
    "data = {\n",
    "    'Name': ['Alice', 'Bob', 'Claire'],\n",
    "    'Age': [25, 30, 27],\n",
    "    'Gender': ['Female', 'Male', 'Female']\n",
    "}\n",
    "\n",
    "df = pd.DataFrame(data)\n",
    "\n",
    "print(df)\n"
   ]
  },
  {
   "cell_type": "code",
   "execution_count": null,
   "metadata": {},
   "outputs": [],
   "source": [
    "# Q4. What is ‘DataFrame’ in pandas and how is it different from pandas.series? Explain with an example.\n",
    "# Answer :-\n",
    "# In Pandas, a DataFrame is a two-dimensional labeled data structure that represents a table of data with rows and columns. It is similar to a spreadsheet or a SQL table. Each column in a DataFrame \n",
    "# can contain data of different types (e.g., numeric, string, boolean, etc.), and it is capable of handling heterogeneous data. The rows and columns in a DataFrame are labeled, allowing easy access\n",
    "# and manipulation of the data.\n"
   ]
  },
  {
   "cell_type": "code",
   "execution_count": null,
   "metadata": {},
   "outputs": [],
   "source": [
    "# Q5. What are some common functions you can use to manipulate data in a Pandas DataFrame? Can \n",
    "# you give an example of when you might use one of these functions?\n",
    "# Answer :-Pandas provides a wide range of functions to manipulate data in a DataFrame. Here are some commonly used functions:\n",
    "# 1.head() and tail(): These functions allow you to view the first few rows (head()) or the last few rows (tail()) of a DataFrame. They are useful for quickly inspecting the structure and contents of the data.\n",
    "\n",
    "# 2.info(): This function provides a summary of the DataFrame, including the column names, data types, and the number of non-null values. It helps in understanding the data types and identifying missing values in the DataFrame.\n",
    "\n",
    "# 3.describe(): This function generates descriptive statistics of the numerical columns in the DataFrame, such as count, mean, standard deviation, minimum, and maximum values. It provides a quick overview of the distribution of the data.\n",
    "\n",
    "# 4.shape: This attribute returns a tuple representing the dimensions of the DataFrame, i.e., the number of rows and columns. It is useful for obtaining the size of the DataFrame.\n",
    "\n",
    "# 5.loc[] and iloc[]: These indexing operators allow for label-based (loc[]) and integer-based (iloc[]) selection of rows and columns in the DataFrame. They are used to retrieve specific subsets of data based on row and column labels or indices.\n",
    "\n",
    "# 6.drop(): This function is used to remove rows or columns from the DataFrame. It allows you to specify the labels of the rows or columns you want to drop.\n",
    "\n",
    "# 7.sort_values(): This function sorts the DataFrame based on one or more columns. It is helpful for arranging the data in ascending or descending order based on specific criteria.\n",
    "\n",
    "# 8.groupby(): This function is used to group data based on one or more columns. It enables aggregating, transforming, and applying functions to the grouped data, allowing for data summarization and analysis.\n",
    "\n",
    "# 9.merge(): This function combines two or more DataFrames based on common columns or indices. It is useful for combining related data from different sources into a single DataFrame.\n",
    "\n",
    "# 10.fillna(): This function is used to fill missing values in the DataFrame with a specified value or a strategy like mean, median, or mode. It helps in handling missing data before performing analysis.\n"
   ]
  },
  {
   "cell_type": "code",
   "execution_count": null,
   "metadata": {},
   "outputs": [],
   "source": [
    "# Q6. Which of the following is mutable in nature Series, DataFrame, Panel?\n",
    "# Answer :-\n",
    "#Among the options provided, the mutable nature depends on the object type.\n",
    "# In Pandas:\n",
    "\n",
    "# Series: A Pandas Series is immutable, meaning it cannot be modified after creation. You can create a new Series with updated values, but you cannot modify the existing Series in place.\n",
    "\n",
    "# DataFrame: A Pandas DataFrame is mutable. You can modify the existing DataFrame by assigning new values to specific cells, adding or removing columns, or updating the values in a column or row.\n",
    "\n",
    "# Panel: Panels were a data structure in older versions of Pandas but have been deprecated since version 0.20.0. Instead, multi-indexed DataFrames or 3D NumPy arrays are recommended for similar use cases.\n",
    "\n",
    "# Therefore, the DataFrame is the mutable object among the three options provided."
   ]
  },
  {
   "cell_type": "code",
   "execution_count": null,
   "metadata": {},
   "outputs": [
    {
     "ename": "ModuleNotFoundError",
     "evalue": "No module named 'pandas'",
     "output_type": "error",
     "traceback": [
      "\u001b[1;31m---------------------------------------------------------------------------\u001b[0m",
      "\u001b[1;31mModuleNotFoundError\u001b[0m                       Traceback (most recent call last)",
      "Cell \u001b[1;32mIn[11], line 4\u001b[0m\n\u001b[0;32m      1\u001b[0m \u001b[39m# Q7. Create a DataFrame using multiple Series. Explain with an example.\u001b[39;00m\n\u001b[0;32m      2\u001b[0m \u001b[39m# Answer :-\u001b[39;00m\n\u001b[0;32m      3\u001b[0m \u001b[39m# To create a DataFrame using multiple Series, you can pass the Series objects as a dictionary to the pd.DataFrame() function. Each Series will be treated as a column, and the resulting DataFrame will align the data based on the shared index values of the Series. Here's an example:\u001b[39;00m\n\u001b[1;32m----> 4\u001b[0m \u001b[39mimport\u001b[39;00m \u001b[39mpandas\u001b[39;00m \u001b[39mas\u001b[39;00m \u001b[39mpd\u001b[39;00m\n\u001b[0;32m      6\u001b[0m \u001b[39m# Creating the Series\u001b[39;00m\n\u001b[0;32m      7\u001b[0m name_series \u001b[39m=\u001b[39m pd\u001b[39m.\u001b[39mSeries([\u001b[39m'\u001b[39m\u001b[39mAlice\u001b[39m\u001b[39m'\u001b[39m, \u001b[39m'\u001b[39m\u001b[39mBob\u001b[39m\u001b[39m'\u001b[39m, \u001b[39m'\u001b[39m\u001b[39mClaire\u001b[39m\u001b[39m'\u001b[39m])\n",
      "\u001b[1;31mModuleNotFoundError\u001b[0m: No module named 'pandas'"
     ]
    }
   ],
   "source": [
    "# Q7. Create a DataFrame using multiple Series. Explain with an example.\n",
    "# Answer :-\n",
    "# To create a DataFrame using multiple Series, you can pass the Series objects as a dictionary to the pd.DataFrame() function. Each Series will be treated as a column, and the resulting DataFrame will align the data based on the shared index values of the Series. Here's an example:\n",
    "import pandas as pd\n",
    "\n",
    "# Creating the Series\n",
    "name_series = pd.Series(['Alice', 'Bob', 'Claire'])\n",
    "age_series = pd.Series([25, 30, 27])\n",
    "gender_series = pd.Series(['Female', 'Male', 'Female'])\n",
    "\n",
    "# Creating the DataFrame\n",
    "data = {\n",
    "    'Name': name_series,\n",
    "    'Age': age_series,\n",
    "    'Gender': gender_series\n",
    "}\n",
    "\n",
    "df = pd.DataFrame(data)\n",
    "\n",
    "# Printing the DataFrame\n",
    "print(df)\n",
    "\n",
    "\n"
   ]
  },
  {
   "cell_type": "code",
   "execution_count": null,
   "metadata": {},
   "outputs": [],
   "source": []
  }
 ],
 "metadata": {
  "kernelspec": {
   "display_name": "Python 3",
   "language": "python",
   "name": "python3"
  },
  "language_info": {
   "codemirror_mode": {
    "name": "ipython",
    "version": 3
   },
   "file_extension": ".py",
   "mimetype": "text/x-python",
   "name": "python",
   "nbconvert_exporter": "python",
   "pygments_lexer": "ipython3",
   "version": "3.10.11"
  },
  "orig_nbformat": 4
 },
 "nbformat": 4,
 "nbformat_minor": 2
}
